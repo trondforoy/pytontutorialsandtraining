{
 "cells": [
  {
   "cell_type": "markdown",
   "metadata": {},
   "source": [
    "# Pandas"
   ]
  },
  {
   "cell_type": "markdown",
   "metadata": {},
   "source": [
    "## Pandas DataFrames\n",
    "Pandas is a high-level data manipulation tool developed by Wes McKinney. It is built on the Numpy package and its key data structure is called the DataFrame. DataFrames allow you to store and manipulate tabular data in rows of observations and columns of variables.\n",
    "\n",
    "There are several ways to create a DataFrame\n"
   ]
  },
  {
   "cell_type": "markdown",
   "metadata": {},
   "source": [
    "### Create a DataFrame using dictionary"
   ]
  },
  {
   "cell_type": "code",
   "execution_count": 27,
   "metadata": {},
   "outputs": [
    {
     "name": "stdout",
     "output_type": "stream",
     "text": [
      "     area    capital       country  population\n",
      "0   8.516   Brasilia        Brazil      200.40\n",
      "1  17.100     Moscow        Russia      143.50\n",
      "2   3.286  New Dehli         India     1252.00\n",
      "3   9.597    Beijing         China     1357.00\n",
      "4   1.221   Pretoria  South Africa       52.98\n",
      "------------------------------------------------------------------\n",
      ")\n",
      "      area    capital       country  population\n",
      "BR   8.516   Brasilia        Brazil      200.40\n",
      "RU  17.100     Moscow        Russia      143.50\n",
      "IN   3.286  New Dehli         India     1252.00\n",
      "CH   9.597    Beijing         China     1357.00\n",
      "SA   1.221   Pretoria  South Africa       52.98\n"
     ]
    }
   ],
   "source": [
    "dict = {\"country\": [\"Brazil\", \"Russia\", \"India\", \"China\", \"South Africa\"],\n",
    "       \"capital\": [\"Brasilia\", \"Moscow\", \"New Dehli\", \"Beijing\", \"Pretoria\"],\n",
    "       \"area\": [8.516, 17.10, 3.286, 9.597, 1.221],\n",
    "       \"population\": [200.4, 143.5, 1252, 1357, 52.98] }\n",
    "\n",
    "import pandas as pd\n",
    "brics = pd.DataFrame(dict)\n",
    "print(brics)\n",
    "print('------------------------------------------------------------------\\n)')\n",
    "\n",
    "# with your own index row labels\n",
    "brics.index = [\"BR\", \"RU\", \"IN\", \"CH\", \"SA\"]\n",
    "print(brics)"
   ]
  },
  {
   "cell_type": "markdown",
   "metadata": {},
   "source": [
    "### Create a DataFrame using import\n",
    "First example reads rom a cvs file"
   ]
  },
  {
   "cell_type": "code",
   "execution_count": 28,
   "metadata": {
    "scrolled": true
   },
   "outputs": [
    {
     "name": "stdout",
     "output_type": "stream",
     "text": [
      "  Unnamed: 0  cars_per_cap        country  drives_right\n",
      "0         US           809  United States          True\n",
      "1        AUS           731      Australia         False\n",
      "2        JAP           588          Japan         False\n",
      "3         IN            18          India         False\n",
      "4         RU           200         Russia          True\n",
      "5        MOR            70        Morocco          True\n",
      "6         EG            45          Egypt          True\n"
     ]
    }
   ],
   "source": [
    "# Import pandas as pd\n",
    "import pandas as pd\n",
    "\n",
    "# Import the cars.csv data: cars\n",
    "cars = pd.read_csv('cars.csv')\n",
    "\n",
    "# Print out cars\n",
    "print(cars)\n",
    "\n"
   ]
  },
  {
   "cell_type": "markdown",
   "metadata": {},
   "source": [
    "is is also easy to read from an excel file"
   ]
  },
  {
   "cell_type": "code",
   "execution_count": 29,
   "metadata": {},
   "outputs": [
    {
     "name": "stdout",
     "output_type": "stream",
     "text": [
      "       cars_per_cap         country  drives_right\n",
      "US               809  United States          True\n",
      "AUS              731     Australia          False\n",
      "JAP              588          Japan         False\n",
      "IN                18          India         False\n",
      "RU               200         Russia          True\n",
      "MOR               70        Morocco          True\n",
      "EG                45          Egypt          True\n"
     ]
    }
   ],
   "source": [
    "# Import pandas as pd\n",
    "import pandas as pd\n",
    "\n",
    "# Import the cars.csv data: cars\n",
    "cars_2 = pd.read_excel(\"cars.xlsx\")\n",
    "\n",
    "# Print out cars\n",
    "print(cars_2)"
   ]
  },
  {
   "cell_type": "markdown",
   "metadata": {},
   "source": [
    "## Indexing DataFrames\n",
    "\n",
    "There are several ways to index a Pandas DataFrame. One of the easiest ways to do this is by using square bracket notation.\n"
   ]
  },
  {
   "cell_type": "markdown",
   "metadata": {},
   "source": [
    "### Pandas Series vs Pandas DataFrame \n",
    "In the example below, you can use square brackets to select one column of a DataFrame. You can either use a single bracket or a double bracket. The **_single bracket_** with output a **_Pandas Series_**(1 dim, same type), while a **_double bracket_** will output a **_Pandas DataFrame_** (table multi type)."
   ]
  },
  {
   "cell_type": "code",
   "execution_count": 30,
   "metadata": {
    "scrolled": true
   },
   "outputs": [
    {
     "name": "stdout",
     "output_type": "stream",
     "text": [
      "country column as Pandas Series:\n",
      "\n",
      "US     809\n",
      "AUS    731\n",
      "JAP    588\n",
      "IN      18\n",
      "RU     200\n",
      "MOR     70\n",
      "EG      45\n",
      "Name: cars_per_cap, dtype: int64\n",
      "<class 'pandas.core.series.Series'>\n",
      "------------------------------------------------------------------\n",
      "\n",
      "country column as Pandas DataFrame:\n",
      "\n",
      "     cars_per_cap\n",
      "US            809\n",
      "AUS           731\n",
      "JAP           588\n",
      "IN             18\n",
      "RU            200\n",
      "MOR            70\n",
      "EG             45\n",
      "<class 'pandas.core.frame.DataFrame'>\n",
      "------------------------------------------------------------------\n",
      "\n",
      "DataFrame with country and drives_right columns:\n",
      "\n",
      "     cars_per_cap        country\n",
      "US            809  United States\n",
      "AUS           731      Australia\n",
      "JAP           588          Japan\n",
      "IN             18          India\n",
      "RU            200         Russia\n",
      "MOR            70        Morocco\n",
      "EG             45          Egypt\n",
      "<class 'pandas.core.frame.DataFrame'>\n"
     ]
    }
   ],
   "source": [
    "# Import pandas and cars.csv\n",
    "import pandas as pd\n",
    "cars = pd.read_csv('cars.csv', index_col = 0)\n",
    "\n",
    "# Print out country column as Pandas Series\n",
    "print(\"country column as Pandas Series:\\n\")\n",
    "ser=cars['cars_per_cap']\n",
    "print(ser)\n",
    "print (type(ser))\n",
    "print('------------------------------------------------------------------\\n')\n",
    "\n",
    "# Print out country column as Pandas DataFrame\n",
    "print(\"country column as Pandas DataFrame:\\n\")\n",
    "dt_frm=cars[['cars_per_cap']]\n",
    "print(dt_frm)\n",
    "print (type(dt_frm))\n",
    "print('------------------------------------------------------------------\\n')\n",
    "\n",
    "# Print out DataFrame with country and drives_right columns\n",
    "print(\"DataFrame with country and drives_right columns:\\n\")\n",
    "dt_frm_2=cars[['cars_per_cap', 'country']]\n",
    "print(dt_frm_2)\n",
    "print (type(dt_frm_2))"
   ]
  },
  {
   "cell_type": "code",
   "execution_count": null,
   "metadata": {
    "collapsed": true
   },
   "outputs": [],
   "source": []
  },
  {
   "cell_type": "markdown",
   "metadata": {},
   "source": [
    "### Column access \n",
    "Column can be accessed using square brackets or by \"named function call\n",
    "A singel column could be a Pandas Series or a Pandas DataFrame "
   ]
  },
  {
   "cell_type": "markdown",
   "metadata": {},
   "source": [
    "#### Access 1 column"
   ]
  },
  {
   "cell_type": "code",
   "execution_count": 37,
   "metadata": {},
   "outputs": [
    {
     "name": "stdout",
     "output_type": "stream",
     "text": [
      "BR          Brazil\n",
      "RU          Russia\n",
      "IN           India\n",
      "CH           China\n",
      "SA    South Africa\n",
      "Name: country, dtype: object\n",
      "<class 'pandas.core.series.Series'>\n",
      "------------------------------------------------------------------\n",
      "\n",
      "BR          Brazil\n",
      "RU          Russia\n",
      "IN           India\n",
      "CH           China\n",
      "SA    South Africa\n",
      "Name: country, dtype: object\n",
      "<class 'pandas.core.series.Series'>\n"
     ]
    }
   ],
   "source": [
    "# Import cars data\n",
    "import pandas as pd\n",
    "brics = pd.read_csv('brics.csv', index_col = 0)\n",
    "\n",
    "# Print out all coubtries using bracket and qoutes\n",
    "brics_1 =brics[\"country\"]\n",
    "print (brics_1)\n",
    "print(type(brics_1))\n",
    "print('------------------------------------------------------------------\\n')\n",
    "\n",
    "# Print out all coubtries using class constatn \n",
    "brics_2 =brics.country\n",
    "print (brics_2)\n",
    "print(type(brics_2))\n",
    "\n",
    "\n",
    "brics_2 =brics.country"
   ]
  },
  {
   "cell_type": "markdown",
   "metadata": {},
   "source": [
    "#### Access several columns\n",
    "several columns will be represented as Pandas DataFrame"
   ]
  },
  {
   "cell_type": "code",
   "execution_count": 81,
   "metadata": {},
   "outputs": [
    {
     "name": "stdout",
     "output_type": "stream",
     "text": [
      "brics[[\"country\",\"area\"]]\n",
      "         country      area\n",
      "BR        Brazil   8515767\n",
      "RU        Russia  17098242\n",
      "IN         India   3287590\n",
      "CH         China   9596961\n",
      "SA  South Africa   1221037\n",
      "<class 'pandas.core.frame.DataFrame'>\n",
      "------------------------------------------------------------------\n",
      "\n",
      "brics.iloc[:,0:2]\n",
      "         country  population\n",
      "BR        Brazil         200\n",
      "RU        Russia         144\n",
      "IN         India        1252\n",
      "CH         China        1357\n",
      "SA  South Africa          55\n",
      "<class 'pandas.core.frame.DataFrame'>\n",
      "------------------------------------------------------------------\n",
      "\n",
      "=brics.loc[:,[\"country\",\"area\"]\n",
      "         country      area\n",
      "BR        Brazil   8515767\n",
      "RU        Russia  17098242\n",
      "IN         India   3287590\n",
      "CH         China   9596961\n",
      "SA  South Africa   1221037\n",
      "<class 'pandas.core.frame.DataFrame'>\n",
      "------------------------------------------------------------------\n",
      "\n",
      "=brics.loc[:,[\"country\",\"area\"]\n",
      "         country  population      area\n",
      "BR        Brazil         200   8515767\n",
      "RU        Russia         144  17098242\n",
      "IN         India        1252   3287590\n",
      "CH         China        1357   9596961\n",
      "SA  South Africa          55   1221037\n",
      "<class 'pandas.core.frame.DataFrame'>\n",
      "------------------------------------------------------------------\n",
      "\n",
      "brics_5=brics[brics.columns[0:1].tolist() + brics.columns[2:4].tolist()]\n",
      "         country      area    capital\n",
      "BR        Brazil   8515767   Brasilia\n",
      "RU        Russia  17098242     Moscow\n",
      "IN         India   3287590  New Delhi\n",
      "CH         China   9596961    Beijing\n",
      "SA  South Africa   1221037   Pretoria\n"
     ]
    }
   ],
   "source": [
    "# Import cars data\n",
    "import pandas as pd\n",
    "brics = pd.read_csv('brics.csv', index_col = 0)\n",
    "\n",
    "# Print out 2 columns usinh bracket notation with colum named with index labels\n",
    "brics_1 =brics[[\"country\",\"area\"]]\n",
    "print('brics[[\"country\",\"area\"]]')\n",
    "print (brics_1)\n",
    "print(type(brics_1))\n",
    "print('------------------------------------------------------------------\\n')\n",
    "\n",
    "# Print out 2 columns usinh bracket notation with colum number index\n",
    "print('brics.iloc[:,0:2]')\n",
    "brics_2 =brics.iloc[:,0:2]\n",
    "print (brics_2)\n",
    "print(type(brics_2))\n",
    "print('------------------------------------------------------------------\\n')\n",
    "\n",
    "# Print out 2 columns using loc and column index label in bracket\n",
    "print('=brics.loc[:,[\"country\",\"area\"]')\n",
    "brics_3 =brics.loc[:,[\"country\",\"area\"]]\n",
    "print (brics_3)\n",
    "print(type(brics_3))\n",
    "print('------------------------------------------------------------------\\n')\n",
    "\n",
    "# Print out 2 columns using loc and column index label as slicers\n",
    "print('=brics.loc[:,[\"country\",\"area\"]')\n",
    "brics_4 =brics.loc[:,\"country\":\"area\"]\n",
    "print (brics_4)\n",
    "print(type(brics_4))\n",
    "print('------------------------------------------------------------------\\n')\n",
    "\n",
    "# with 2 different column ranges, index based slicing: \n",
    "print('brics_5=brics[brics.columns[0:1].tolist() + brics.columns[2:4].tolist()]')\n",
    "brics_5=brics[brics.columns[0:1].tolist() + brics.columns[2:4].tolist()]\n",
    "print(brics_5)"
   ]
  },
  {
   "cell_type": "markdown",
   "metadata": {},
   "source": [
    "### Access observation (row) with brackets\n",
    "Square brackets can also be used to access observations (rows) from a DataFrame. For example:"
   ]
  },
  {
   "cell_type": "code",
   "execution_count": 31,
   "metadata": {
    "scrolled": true
   },
   "outputs": [
    {
     "name": "stdout",
     "output_type": "stream",
     "text": [
      "     cars_per_cap        country  drives_right\n",
      "US            809  United States          True\n",
      "AUS           731      Australia         False\n",
      "JAP           588          Japan         False\n",
      "IN             18          India         False\n",
      "<class 'pandas.core.frame.DataFrame'>\n",
      "------------------------------------------------------------------\n",
      "\n",
      "     cars_per_cap  country  drives_right\n",
      "RU            200   Russia          True\n",
      "MOR            70  Morocco          True\n",
      "<class 'pandas.core.frame.DataFrame'>\n"
     ]
    }
   ],
   "source": [
    "# Import cars data\n",
    "import pandas as pd\n",
    "cars = pd.read_csv('cars.csv', index_col = 0)\n",
    "\n",
    "# Print out first 4 observations  as Pandas DataFrame \n",
    "obser=cars[0:4]\n",
    "print(obser)\n",
    "print (type(obser))\n",
    "print('------------------------------------------------------------------\\n')\n",
    "\n",
    "# Print out fifth, sixth, and seventh observation as Pandas DataFrame\n",
    "obser=cars[4:6]\n",
    "print(obser)\n",
    "print(type(obser))"
   ]
  },
  {
   "cell_type": "markdown",
   "metadata": {},
   "source": [
    "### Access observation (row) with methods\n",
    "You can also use **_loc_** and **_iloc_** to perform just about any data selection operation. loc is label-based, which means that you have to specify rows and columns based on their row and column labels. iloc is integer index based, so you have to specify rows and columns "
   ]
  },
  {
   "cell_type": "code",
   "execution_count": 62,
   "metadata": {},
   "outputs": [
    {
     "name": "stdout",
     "output_type": "stream",
     "text": [
      "cars_per_cap      588\n",
      "country         Japan\n",
      "drives_right    False\n",
      "Name: JAP, dtype: object\n",
      "<class 'pandas.core.series.Series'>\n",
      "------------------------------------------------------------------\n",
      "\n",
      "     cars_per_cap    country  drives_right\n",
      "AUS           731  Australia         False\n",
      "EG             45      Egypt          True\n",
      "<class 'pandas.core.frame.DataFrame'>\n"
     ]
    }
   ],
   "source": [
    "# Import cars data\n",
    "import pandas as pd\n",
    "cars = pd.read_csv('cars.csv', index_col = 0)\n",
    "\n",
    "# Print out observation for Japan as Pandas Series use cars.iloc[[2]] for Pandas DataFrame\n",
    "x= cars.iloc[2]\n",
    "print(x)\n",
    "print(type(x))\n",
    "print('------------------------------------------------------------------\\n')\n",
    "\n",
    "# Print out observations for Australia and Egypt as Pandas DataFrame\n",
    "y=cars.loc[['AUS', 'EG']]\n",
    "print(y)\n",
    "print(type(y))"
   ]
  },
  {
   "cell_type": "markdown",
   "metadata": {},
   "source": [
    "### Acceess matrix\n",
    "different methods to do selective m<trix slicing including selective label based, index based and the selective ranges based column slicing."
   ]
  },
  {
   "cell_type": "code",
   "execution_count": 86,
   "metadata": {},
   "outputs": [
    {
     "name": "stdout",
     "output_type": "stream",
     "text": [
      "         country  population      area    capital\n",
      "BR        Brazil         200   8515767   Brasilia\n",
      "RU        Russia         144  17098242     Moscow\n",
      "IN         India        1252   3287590  New Delhi\n",
      "CH         China        1357   9596961    Beijing\n",
      "SA  South Africa          55   1221037   Pretoria\n",
      "------------------------------------------------------------------\n",
      "\n",
      "   country  populatio   capital\n",
      "BR  Brazil        NaN  Brasilia\n",
      "RU  Russia        NaN    Moscow\n",
      "------------------------------------------------------------------\n",
      "\n",
      "   country  population      area\n",
      "BR  Brazil         200   8515767\n",
      "RU  Russia         144  17098242\n",
      "IN   India        1252   3287590\n",
      "------------------------------------------------------------------\n",
      "\n",
      "index based column ranges slicing \n",
      "   country  population      area\n",
      "BR  Brazil         200   8515767\n",
      "RU  Russia         144  17098242\n",
      "IN   India        1252   3287590\n",
      "------------------------------------------------------------------\n",
      "\n",
      "         country      area    capital\n",
      "BR        Brazil   8515767   Brasilia\n",
      "RU        Russia  17098242     Moscow\n",
      "IN         India   3287590  New Delhi\n",
      "CH         China   9596961    Beijing\n",
      "SA  South Africa   1221037   Pretoria\n"
     ]
    }
   ],
   "source": [
    "import pandas as pd\n",
    "brics = pd.read_csv('brics.csv', index_col = 0)\n",
    "print(brics)\n",
    "print('------------------------------------------------------------------\\n')\n",
    "\n",
    "#label based selective column slicing \n",
    "brics_1 =brics.loc[[\"BR\",\"RU\"], [\"country\", \"populatio\", \"capital\"]] \n",
    "print(brics_1)\n",
    "print('------------------------------------------------------------------\\n')\n",
    "\n",
    "# label based column ranges slicing \n",
    "brics_2 =brics.loc[\"BR\":\"IN\", \"country\":\"area\"] \n",
    "print(brics_2)\n",
    "print('------------------------------------------------------------------\\n')\n",
    "\n",
    "# ## index based column ranges slicing \n",
    "print(\"index based column ranges slicing \")\n",
    "brics_3 =brics.iloc[0:3, 0:3] \n",
    "print(brics_3)\n",
    "print('------------------------------------------------------------------\\n')\n",
    "\n",
    "# with 2 different column ranges, index based slicing: \n",
    "brics_4=brics[brics.columns[0:1].tolist() + brics.columns[2:4].tolist()]\n",
    "print(brics_4)\n",
    "\n",
    "\n"
   ]
  }
 ],
 "metadata": {
  "kernelspec": {
   "display_name": "Python 3",
   "language": "python",
   "name": "python3"
  },
  "language_info": {
   "codemirror_mode": {
    "name": "ipython",
    "version": 3
   },
   "file_extension": ".py",
   "mimetype": "text/x-python",
   "name": "python",
   "nbconvert_exporter": "python",
   "pygments_lexer": "ipython3",
   "version": "3.6.3"
  }
 },
 "nbformat": 4,
 "nbformat_minor": 2
}
